{
 "cells": [
  {
   "cell_type": "code",
   "execution_count": 1,
   "metadata": {},
   "outputs": [
    {
     "name": "stdout",
     "output_type": "stream",
     "text": [
      "pygame 2.1.2 (SDL 2.0.16, Python 3.9.7)\n",
      "Hello from the pygame community. https://www.pygame.org/contribute.html\n"
     ]
    }
   ],
   "source": [
    "import pygame, sys, random\n",
    "from pygame.locals import *\n",
    "import random as rnd\n",
    "import time\n",
    "from pyabm import World, Cell, Agent"
   ]
  },
  {
   "cell_type": "code",
   "execution_count": 2,
   "metadata": {},
   "outputs": [
    {
     "name": "stdout",
     "output_type": "stream",
     "text": [
      "5 4 0.037476668837004484\n",
      "5 3 0.023972360149374608\n",
      "5 2 0.015351518436211731\n",
      "6 5 0.08370006730083887\n",
      "7 5 0.11815205056461137\n",
      "8 5 0.16025601663505723\n",
      "5 6 0.08370006730083886\n",
      "5 7 0.11815205056461137\n",
      "5 8 0.1602560166350572\n",
      "4 5 0.037476668837004484\n",
      "3 5 0.02397236014937461\n",
      "2 5 0.015351518436211731\n",
      "move to : 8 5\n"
     ]
    }
   ],
   "source": [
    "world = World(30, [\"resource\"],[0],n_type=4)\n",
    "world.setCell(15, 15, \"resource\", 500)\n",
    "world.addAgent(5,5)\n",
    "world.update()\n",
    "for _ in range(100):\n",
    "    world.diffuse(\"resource\",0.5)\n",
    "    world.update()\n",
    "\n",
    "agent = world.agents[0]\n",
    "pos = agent.getHome()\n",
    "max = pos.getState(\"resource\")\n",
    "new_pos = pos\n",
    "for i in range(4):\n",
    "    pos = agent.getHome()\n",
    "    for j in range(3):\n",
    "        pos = pos.neighbours[i]\n",
    "        res = pos.getState(\"resource\")\n",
    "        print(pos.x_pos,pos.y_pos,res)\n",
    "        if res>max:\n",
    "            new_pos = pos\n",
    "            max = res\n",
    "print(\"move to :\",new_pos.x_pos,new_pos.y_pos,)\n"
   ]
  },
  {
   "cell_type": "code",
   "execution_count": 3,
   "metadata": {},
   "outputs": [
    {
     "name": "stdout",
     "output_type": "stream",
     "text": [
      "0\n",
      "1\n",
      "2\n",
      "3\n",
      "0\n"
     ]
    }
   ],
   "source": [
    "for i in range(5):\n",
    "    print(i%4)"
   ]
  },
  {
   "cell_type": "code",
   "execution_count": null,
   "metadata": {},
   "outputs": [],
   "source": []
  }
 ],
 "metadata": {
  "interpreter": {
   "hash": "86b261f602f199420b016e7ca607bd47aa1152e372e7b71b38bf85db67f8713f"
  },
  "kernelspec": {
   "display_name": "Python 3.10.2 64-bit",
   "language": "python",
   "name": "python3"
  },
  "language_info": {
   "codemirror_mode": {
    "name": "ipython",
    "version": 3
   },
   "file_extension": ".py",
   "mimetype": "text/x-python",
   "name": "python",
   "nbconvert_exporter": "python",
   "pygments_lexer": "ipython3",
   "version": "3.9.7"
  },
  "orig_nbformat": 4
 },
 "nbformat": 4,
 "nbformat_minor": 2
}

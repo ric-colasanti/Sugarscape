{
 "cells": [
  {
   "cell_type": "code",
   "execution_count": 27,
   "metadata": {
    "id": "QvRLSSXGPLWS"
   },
   "outputs": [],
   "source": [
    "from IPython.display import display, HTML,clear_output\n",
    "import random as rnd\n",
    "import math\n",
    "import time"
   ]
  },
  {
   "cell_type": "code",
   "execution_count": 28,
   "metadata": {
    "id": "k4UrWb_VPQbS"
   },
   "outputs": [],
   "source": [
    "class SVGCanvas:\n",
    "    def __init__(self,width,height,size):\n",
    "        self.width = width\n",
    "        self.height = height\n",
    "        self.size = size\n",
    "        self.html_s =\"\"\n",
    "    \n",
    "    def clear(self):\n",
    "        self.html_s = '<svg width=\"'+str(self.width)+'\" height=\"'+str(self.height)+'\"style=\"border:1px solid black\">'\n",
    "\n",
    "    def addCircle(self,x_pos,y_pos,color):\n",
    "        x_pos = x_pos/self.size\n",
    "        y_pos = y_pos/self.size\n",
    "        r = 1/(self.size*2)\n",
    "        str_int_x = str(int((x_pos*self.width)+(r*self.width)))\n",
    "        str_int_y = str(int((y_pos*self.height)+(r*self.width)))\n",
    "        str_int_r = str(int(r*self.width))\n",
    "        self.html_s +='<circle cx=\"'+str_int_x+'\" cy=\"'+str_int_y+'\" r=\"'+str_int_r+'\" fill=\"'+color+'\"/>'\n",
    "\n",
    "    def addRect(self,x_pos,y_pos,color):\n",
    "        x_pos = x_pos/self.size\n",
    "        y_pos = y_pos/self.size\n",
    "        height = 1/self.size\n",
    "        width = 1/self.size\n",
    "        str_int_x = str(int(x_pos*self.width))\n",
    "        str_int_y = str(int(y_pos*self.height))\n",
    "        str_int_width = str(int(width*self.width))\n",
    "        str_int_height = str(int(height*self.height))\n",
    "        self.html_s +='<rect x=\"'+str_int_x+'\" y=\"'+str_int_y+'\" width=\"'+str_int_width+'\" height=\"'+str_int_height+'\" fill=\"'+color+'\"/>'\n",
    "\n",
    "    def getCanvas(self):\n",
    "        self.html_s += \"</svg>\"\n",
    "        return HTML(self.html_s)\n"
   ]
  },
  {
   "cell_type": "code",
   "execution_count": 29,
   "metadata": {
    "id": "_nD4QkSZWyKC"
   },
   "outputs": [],
   "source": [
    "class Cell:\n",
    "    def __init__(self,x_pos,y_pos,resource):\n",
    "        self.occupant = None\n",
    "        self.x_pos = x_pos\n",
    "        self.y_pos = y_pos\n",
    "        self.resource = resource\n",
    "        \n",
    "    def update(self):\n",
    "        self.resource = rnd.random()\n",
    "        "
   ]
  },
  {
   "cell_type": "code",
   "execution_count": 37,
   "metadata": {},
   "outputs": [],
   "source": [
    "class Agent:\n",
    "    world=None\n",
    "    \n",
    "    def __init__(self,x_pos,y_pos,distance):\n",
    "        self.x_pos=x_pos\n",
    "        self.y_pos=y_pos\n",
    "        self.distance = distance\n",
    "        Agent.world.grid[x_pos][y_pos].occupant = self\n",
    "        \n",
    "    def move(self,dx,dy):\n",
    "        cells = []\n",
    "        \n",
    "        for ax in range(-self.distance,self.distance+1):\n",
    "            dx = Agent.world.bounds(self.x_pos+ax)\n",
    "            cells.append(Agent.world.grid[dx][self.y_pos])\n",
    "        for ay in range(-self.distance,self.distance+1):\n",
    "            dy = Agent.world.bounds(self.y_pos+ay)\n",
    "            cells.append(Agent.world.grid[self.x_pos][dy])\n",
    "        rnd.shuffle(cells)\n",
    "        new_pos=None\n",
    "        max_res = 0\n",
    "        for c in cells:\n",
    "            if c.resource>max_res:\n",
    "                max_res = c.resource\n",
    "                new_pos = c\n",
    "        new_x_pos=new_pos.x_pos\n",
    "        new_y_pos=new_pos.y_pos\n",
    "        if Agent.world.grid[new_x_pos][new_y_pos].occupant==None:\n",
    "            Agent.world.grid[self.x_pos][self.y_pos].occupant=None\n",
    "            self.x_pos = new_x_pos\n",
    "            self.y_pos = new_y_pos\n",
    "            Agent.world.grid[self.x_pos][self.y_pos].occupant = self\n",
    "            Agent.world.grid[self.x_pos][self.y_pos].resource=0\n",
    "        "
   ]
  },
  {
   "cell_type": "code",
   "execution_count": 38,
   "metadata": {},
   "outputs": [],
   "source": [
    "class World:\n",
    "    def __init__(self,size,number_of_agents):\n",
    "        h_size = int(size/2)\n",
    "        self.size =size\n",
    "        self.grid=[]\n",
    "        self.svg = SVGCanvas(601,601,size)\n",
    "        for x in range(size):\n",
    "            self.grid.append([])\n",
    "            for y in range(size):\n",
    "                dx = (h_size-abs(x-h_size))/h_size*0.5\n",
    "                dy = (h_size-abs(y-h_size))/h_size*0.5\n",
    "                self.grid[x].append(Cell(x,y,dx+dy))\n",
    "        Agent.world = self\n",
    "        \n",
    "        self.agents=[]\n",
    "        for i in range(number_of_agents):\n",
    "            flag = True\n",
    "            while flag:\n",
    "                x_pos = rnd.randint(0,self.size-1)\n",
    "                y_pos = rnd.randint(0,self.size-1)\n",
    "                if self.grid[x_pos][y_pos].occupant==None:\n",
    "                    self.agents.append(Agent(x_pos,y_pos,rnd.randint(1,3)))\n",
    "                    flag = False\n",
    "                                       \n",
    "    def bounds(self,pos):\n",
    "        if pos<0:\n",
    "            return self.size+pos\n",
    "        if pos>= self.size:\n",
    "            return pos-self.size\n",
    "        return  pos\n",
    "                                    \n",
    "    def draw(self):\n",
    "        colors=[\"\",\"rgb(255,0,0)\",\"rgb(0,255,0)\",\"rgb(0,0,255)\",\"rgb(255,0,255)\"]\n",
    "        self.svg.clear()\n",
    "        for i in range(self.size):\n",
    "            for j in range(self.size):\n",
    "                b = str(255- int(self.grid[i][j].resource*255))\n",
    "                self.svg.addRect(i,j,'rgb(255,255,'+b+')')\n",
    "                if self.grid[i][j].occupant !=None:\n",
    "                    a = self.grid[i][j].occupant\n",
    "                    self.svg.addCircle(i,j,colors[a.distance])\n",
    "        display(self.svg.getCanvas())\n",
    "                                 \n",
    "    def update(self):\n",
    "        for a in self.agents:\n",
    "            a.move(rnd.randint(-1,1),rnd.randint(-1,1))\n",
    "    \n",
    "    def run(self,run_time): \n",
    "        for t in range(run_time):\n",
    "            clear_output(wait=True)\n",
    "            self.update()\n",
    "            self.draw()                            \n",
    "            time.sleep(0.01)\n",
    "        "
   ]
  },
  {
   "cell_type": "code",
   "execution_count": 39,
   "metadata": {},
   "outputs": [],
   "source": [
    "world = World(62,10)"
   ]
  },
  {
   "cell_type": "code",
   "execution_count": 40,
   "metadata": {},
   "outputs": [
    {
     "ename": "AttributeError",
     "evalue": "'NoneType' object has no attribute 'x_pos'",
     "output_type": "error",
     "traceback": [
      "\u001b[0;31m---------------------------------------------------------------------------\u001b[0m",
      "\u001b[0;31mAttributeError\u001b[0m                            Traceback (most recent call last)",
      "Input \u001b[0;32mIn [40]\u001b[0m, in \u001b[0;36m<module>\u001b[0;34m\u001b[0m\n\u001b[0;32m----> 1\u001b[0m \u001b[43mworld\u001b[49m\u001b[38;5;241;43m.\u001b[39;49m\u001b[43mrun\u001b[49m\u001b[43m(\u001b[49m\u001b[38;5;241;43m40\u001b[39;49m\u001b[43m)\u001b[49m\n\u001b[1;32m      2\u001b[0m \u001b[38;5;28mprint\u001b[39m(\u001b[38;5;124m\"\u001b[39m\u001b[38;5;124mdone\u001b[39m\u001b[38;5;124m\"\u001b[39m)\n",
      "Input \u001b[0;32mIn [38]\u001b[0m, in \u001b[0;36mWorld.run\u001b[0;34m(self, run_time)\u001b[0m\n\u001b[1;32m     49\u001b[0m \u001b[38;5;28;01mfor\u001b[39;00m t \u001b[38;5;129;01min\u001b[39;00m \u001b[38;5;28mrange\u001b[39m(run_time):\n\u001b[1;32m     50\u001b[0m     clear_output(wait\u001b[38;5;241m=\u001b[39m\u001b[38;5;28;01mTrue\u001b[39;00m)\n\u001b[0;32m---> 51\u001b[0m     \u001b[38;5;28;43mself\u001b[39;49m\u001b[38;5;241;43m.\u001b[39;49m\u001b[43mupdate\u001b[49m\u001b[43m(\u001b[49m\u001b[43m)\u001b[49m\n\u001b[1;32m     52\u001b[0m     \u001b[38;5;28mself\u001b[39m\u001b[38;5;241m.\u001b[39mdraw()                            \n\u001b[1;32m     53\u001b[0m     time\u001b[38;5;241m.\u001b[39msleep(\u001b[38;5;241m0.01\u001b[39m)\n",
      "Input \u001b[0;32mIn [38]\u001b[0m, in \u001b[0;36mWorld.update\u001b[0;34m(self)\u001b[0m\n\u001b[1;32m     44\u001b[0m \u001b[38;5;28;01mdef\u001b[39;00m \u001b[38;5;21mupdate\u001b[39m(\u001b[38;5;28mself\u001b[39m):\n\u001b[1;32m     45\u001b[0m     \u001b[38;5;28;01mfor\u001b[39;00m a \u001b[38;5;129;01min\u001b[39;00m \u001b[38;5;28mself\u001b[39m\u001b[38;5;241m.\u001b[39magents:\n\u001b[0;32m---> 46\u001b[0m         \u001b[43ma\u001b[49m\u001b[38;5;241;43m.\u001b[39;49m\u001b[43mmove\u001b[49m\u001b[43m(\u001b[49m\u001b[43mrnd\u001b[49m\u001b[38;5;241;43m.\u001b[39;49m\u001b[43mrandint\u001b[49m\u001b[43m(\u001b[49m\u001b[38;5;241;43m-\u001b[39;49m\u001b[38;5;241;43m1\u001b[39;49m\u001b[43m,\u001b[49m\u001b[38;5;241;43m1\u001b[39;49m\u001b[43m)\u001b[49m\u001b[43m,\u001b[49m\u001b[43mrnd\u001b[49m\u001b[38;5;241;43m.\u001b[39;49m\u001b[43mrandint\u001b[49m\u001b[43m(\u001b[49m\u001b[38;5;241;43m-\u001b[39;49m\u001b[38;5;241;43m1\u001b[39;49m\u001b[43m,\u001b[49m\u001b[38;5;241;43m1\u001b[39;49m\u001b[43m)\u001b[49m\u001b[43m)\u001b[49m\n",
      "Input \u001b[0;32mIn [37]\u001b[0m, in \u001b[0;36mAgent.move\u001b[0;34m(self, dx, dy)\u001b[0m\n\u001b[1;32m     24\u001b[0m         max_res \u001b[38;5;241m=\u001b[39m c\u001b[38;5;241m.\u001b[39mresource\n\u001b[1;32m     25\u001b[0m         new_pos \u001b[38;5;241m=\u001b[39m c\n\u001b[0;32m---> 26\u001b[0m new_x_pos\u001b[38;5;241m=\u001b[39m\u001b[43mnew_pos\u001b[49m\u001b[38;5;241;43m.\u001b[39;49m\u001b[43mx_pos\u001b[49m\n\u001b[1;32m     27\u001b[0m new_y_pos\u001b[38;5;241m=\u001b[39mnew_pos\u001b[38;5;241m.\u001b[39my_pos\n\u001b[1;32m     28\u001b[0m \u001b[38;5;28;01mif\u001b[39;00m Agent\u001b[38;5;241m.\u001b[39mworld\u001b[38;5;241m.\u001b[39mgrid[new_x_pos][new_y_pos]\u001b[38;5;241m.\u001b[39moccupant\u001b[38;5;241m==\u001b[39m\u001b[38;5;28;01mNone\u001b[39;00m:\n",
      "\u001b[0;31mAttributeError\u001b[0m: 'NoneType' object has no attribute 'x_pos'"
     ]
    }
   ],
   "source": [
    "world.run(40)\n",
    "print(\"done\")"
   ]
  },
  {
   "cell_type": "code",
   "execution_count": null,
   "metadata": {},
   "outputs": [],
   "source": []
  }
 ],
 "metadata": {
  "colab": {
   "name": "svg_display.ipynb",
   "provenance": []
  },
  "kernelspec": {
   "display_name": "Python 3 (ipykernel)",
   "language": "python",
   "name": "python3"
  },
  "language_info": {
   "codemirror_mode": {
    "name": "ipython",
    "version": 3
   },
   "file_extension": ".py",
   "mimetype": "text/x-python",
   "name": "python",
   "nbconvert_exporter": "python",
   "pygments_lexer": "ipython3",
   "version": "3.9.2"
  }
 },
 "nbformat": 4,
 "nbformat_minor": 4
}

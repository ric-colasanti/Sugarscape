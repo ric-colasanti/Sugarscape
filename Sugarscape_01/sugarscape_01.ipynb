{
  "nbformat": 4,
  "nbformat_minor": 0,
  "metadata": {
    "colab": {
      "name": "svg_display.ipynb",
      "provenance": []
    },
    "kernelspec": {
      "name": "python3",
      "display_name": "Python 3"
    },
    "language_info": {
      "name": "python"
    }
  },
  "cells": [
    {
      "cell_type": "code",
      "metadata": {
        "id": "QvRLSSXGPLWS"
      },
      "source": [
        "from IPython.display import display, HTML,clear_output\n",
        "import time"
      ],
      "execution_count": 1,
      "outputs": []
    },
    {
      "cell_type": "code",
      "metadata": {
        "id": "k4UrWb_VPQbS"
      },
      "source": [
        "class SVGCanvas:\n",
        "    def __init__(self,width,height,size):\n",
        "        self.width = width\n",
        "        self.height = height\n",
        "        self.size = size\n",
        "        self.html_s =\"\"\n",
        "    \n",
        "    def clear(self):\n",
        "        self.html_s = '<svg width=\"'+str(self.width)+'\" height=\"'+str(self.height)+'\"style=\"border:1px solid black\">'\n",
        "\n",
        "    def addCircle(self,x_pos,y_pos,color):\n",
        "        x_pos = x_pos/self.size\n",
        "        y_pos = y_pos/self.size\n",
        "        r = 1/(self.size*2)\n",
        "        str_int_x = str(int((x_pos*self.width)+(r*self.width)))\n",
        "        str_int_y = str(int((y_pos*self.height)+(r*self.width)))\n",
        "        str_int_r = str(int(r*self.width))\n",
        "        self.html_s +='<circle cx=\"'+str_int_x+'\" cy=\"'+str_int_y+'\" r=\"'+str_int_r+'\" fill=\"'+color+'\"/>'\n",
        "\n",
        "    def addRect(self,x_pos,y_pos,color):\n",
        "        x_pos = x_pos/self.size\n",
        "        y_pos = y_pos/self.size\n",
        "        height = 1/self.size\n",
        "        width = 1/self.size\n",
        "        str_int_x = str(int(x_pos*self.width))\n",
        "        str_int_y = str(int(y_pos*self.height))\n",
        "        str_int_width = str(int(width*self.width))\n",
        "        str_int_height = str(int(height*self.height))\n",
        "        self.html_s +='<rect x=\"'+str_int_x+'\" y=\"'+str_int_y+'\" width=\"'+str_int_width+'\" height=\"'+str_int_height+'\" fill=\"'+color+'\"/>'\n",
        "\n",
        "    def getCanvas(self):\n",
        "        self.html_s += \"</svg>\"\n",
        "        return HTML(self.html_s)\n"
      ],
      "execution_count": 2,
      "outputs": []
    },
    {
      "cell_type": "code",
      "metadata": {
        "colab": {
          "base_uri": "https://localhost:8080/",
          "height": 323
        },
        "id": "OOpUOuBdU360",
        "outputId": "d2d8283e-27e3-4ecd-cc0f-8061d432edf0"
      },
      "source": [
        "svg = SVGCanvas(300,300,30)\n",
        "for i in range(4):\n",
        "    clear_output(wait=True)\n",
        "    svg.clear()\n",
        "    svg.addRect(9,0,'rgb(255, 99, 71)')\n",
        "    svg.addRect(5,5,'rgb(255, 99, 71)')\n",
        "    svg.addCircle(i,i,'blue')\n",
        "    display(svg.getCanvas())\n",
        "    time.sleep(1)"
      ],
      "execution_count": 7,
      "outputs": [
        {
          "output_type": "display_data",
          "data": {
            "text/html": [
              "<svg width=\"300\" height=\"300\"style=\"border:1px solid black\"><rect x=\"90\" y=\"0\" width=\"10\" height=\"10\" fill=\"rgb(255, 99, 71)\"/><rect x=\"50\" y=\"50\" width=\"10\" height=\"10\" fill=\"rgb(255, 99, 71)\"/><circle cx=\"35\" cy=\"35\" r=\"5\" fill=\"blue\"/></svg>"
            ],
            "text/plain": [
              "<IPython.core.display.HTML object>"
            ]
          },
          "metadata": {}
        }
      ]
    },
    {
      "cell_type": "code",
      "metadata": {
        "id": "_nD4QkSZWyKC"
      },
      "source": [
        ""
      ],
      "execution_count": null,
      "outputs": []
    }
  ]
}